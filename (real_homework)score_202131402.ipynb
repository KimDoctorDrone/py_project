{
 "cells": [
  {
   "cell_type": "code",
   "execution_count": null,
   "metadata": {},
   "outputs": [],
   "source": [
    "\n",
    "data = input(\"1회차 ~ 15회차 점수를 입력해주세요.\")\n",
    "\n",
    "mid = int(input(\"중간고사 성적을 입력해주세요?\"))\n",
    "\n",
    "fin = int(input(\"기말고사 성적을 입력해주세요?\"))\n",
    "\n",
    "\n",
    "print(data.split())\n",
    "a1,a2,a3,a4,a5,a6,a7,a8,a9,a10,a11,a12,a13,a14,a15 = map(int,data.split())\n",
    "\n",
    "\n",
    "sum = a1+a2+a3+a4+a5+a6+a7+a8+a9+a10+a11+a12+a13+a14+a15 \n",
    "avg = sum/15\n",
    "a = avg * 0.4\n",
    "\n",
    "b = mid * 0.3\n",
    "\n",
    "c = fin * 0.3\n",
    "\n",
    "\n",
    "print(\" %3d | %3d | %3d | %3d | %3d | %3d | %3d | %3d | %3d | %3d | %3d | %3d | %3d | %3d | %3d | %3d | 평균값  %6.2f | 비중  %6.2f |\"\n",
    "    %(a1,a2,a3,a4,a5,a6,a7,a8,a9,a10,a11,a12,a13,a14,a15,sum, avg,a))\n",
    "\n",
    "\n",
    "print(\"과제 반영점수(40%)\" , a, \"중간 반영점수(30%)\" , b, \"기말 반영점수(30%)\" , c)\n",
    "\n",
    "score = a + b + c\n",
    "if 100 >= score >= 90:\n",
    "    grade = \"A\"\n",
    "elif 90 > score >= 80:\n",
    "    grade = \"B\"\n",
    "elif 80 > score >= 70:\n",
    "    grade = \"C\"\n",
    "elif 70 > score >= 60:\n",
    "    grade = \"D\"\n",
    "elif score < 60:\n",
    "    grade = \"F\"\n",
    "\n",
    "print(\"성적은\" + grade + \"입니다.\")\n"
   ]
  }
 ],
 "metadata": {
  "kernelspec": {
   "display_name": "Python 3",
   "language": "python",
   "name": "python3"
  },
  "language_info": {
   "codemirror_mode": {
    "name": "ipython",
    "version": 3
   },
   "file_extension": ".py",
   "mimetype": "text/x-python",
   "name": "python",
   "nbconvert_exporter": "python",
   "pygments_lexer": "ipython3",
   "version": "3.8.5"
  }
 },
 "nbformat": 4,
 "nbformat_minor": 4
}
